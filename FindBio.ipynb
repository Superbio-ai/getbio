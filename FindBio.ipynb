{
 "cells": [
  {
   "cell_type": "code",
   "execution_count": 1,
   "id": "70cab932",
   "metadata": {},
   "outputs": [],
   "source": [
    "import gget"
   ]
  },
  {
   "cell_type": "code",
   "execution_count": null,
   "id": "6cb68e34-237b-4a02-b98d-faefda94d379",
   "metadata": {},
   "outputs": [],
   "source": [
    "# gget\n",
    "# openai\n",
    "# openmm=7.5.1\n",
    "# gget setup alphafold\n",
    "# gget setup ???"
   ]
  },
  {
   "cell_type": "markdown",
   "id": "e0acb82f-7c64-4c23-a4d2-b1327723fd72",
   "metadata": {},
   "source": [
    "### Search reference genome"
   ]
  },
  {
   "cell_type": "code",
   "execution_count": 4,
   "id": "54157aa7-a6c5-4b1e-9bf9-d4fe8624e450",
   "metadata": {},
   "outputs": [
    {
     "name": "stderr",
     "output_type": "stream",
     "text": [
      "Mon Mar 11 15:41:34 2024 INFO Fetching reference information for mus_musculus from Ensembl release: 111.\n"
     ]
    }
   ],
   "source": [
    "temp = gget.ref(\"mus_musculus\")"
   ]
  },
  {
   "cell_type": "code",
   "execution_count": 5,
   "id": "b0c2c7e3-2f9f-4d8c-8c11-d5fdad0694d8",
   "metadata": {},
   "outputs": [],
   "source": [
    "import pandas as pd"
   ]
  },
  {
   "cell_type": "code",
   "execution_count": 8,
   "id": "9aba68ff-8006-4ad1-b99a-a2bf0ff9f781",
   "metadata": {},
   "outputs": [],
   "source": [
    "out_list = []\n",
    "for key, value in temp.items():\n",
    "    out_list.append(pd.DataFrame(value))"
   ]
  },
  {
   "cell_type": "code",
   "execution_count": 10,
   "id": "4399fb97-ad08-4538-8c1b-f8222a280e67",
   "metadata": {},
   "outputs": [
    {
     "data": {
      "text/html": [
       "<div>\n",
       "<style scoped>\n",
       "    .dataframe tbody tr th:only-of-type {\n",
       "        vertical-align: middle;\n",
       "    }\n",
       "\n",
       "    .dataframe tbody tr th {\n",
       "        vertical-align: top;\n",
       "    }\n",
       "\n",
       "    .dataframe thead th {\n",
       "        text-align: right;\n",
       "    }\n",
       "</style>\n",
       "<table border=\"1\" class=\"dataframe\">\n",
       "  <thead>\n",
       "    <tr style=\"text-align: right;\">\n",
       "      <th></th>\n",
       "      <th>ftp</th>\n",
       "      <th>ensembl_release</th>\n",
       "      <th>release_date</th>\n",
       "      <th>release_time</th>\n",
       "      <th>bytes</th>\n",
       "    </tr>\n",
       "  </thead>\n",
       "  <tbody>\n",
       "    <tr>\n",
       "      <th>transcriptome_cdna</th>\n",
       "      <td>http://ftp.ensembl.org/pub/release-111/fasta/m...</td>\n",
       "      <td>111</td>\n",
       "      <td>2023-10-05</td>\n",
       "      <td>17:12</td>\n",
       "      <td>48M</td>\n",
       "    </tr>\n",
       "    <tr>\n",
       "      <th>genome_dna</th>\n",
       "      <td>http://ftp.ensembl.org/pub/release-111/fasta/m...</td>\n",
       "      <td>111</td>\n",
       "      <td>2023-10-04</td>\n",
       "      <td>12:37</td>\n",
       "      <td>769M</td>\n",
       "    </tr>\n",
       "    <tr>\n",
       "      <th>annotation_gtf</th>\n",
       "      <td>http://ftp.ensembl.org/pub/release-111/gtf/mus...</td>\n",
       "      <td>111</td>\n",
       "      <td>2023-10-08</td>\n",
       "      <td>14:49</td>\n",
       "      <td>31M</td>\n",
       "    </tr>\n",
       "    <tr>\n",
       "      <th>coding_seq_cds</th>\n",
       "      <td>http://ftp.ensembl.org/pub/release-111/fasta/m...</td>\n",
       "      <td>111</td>\n",
       "      <td>2023-10-05</td>\n",
       "      <td>17:13</td>\n",
       "      <td>16M</td>\n",
       "    </tr>\n",
       "    <tr>\n",
       "      <th>non-coding_seq_ncRNA</th>\n",
       "      <td>http://ftp.ensembl.org/pub/release-111/fasta/m...</td>\n",
       "      <td>111</td>\n",
       "      <td>2023-10-05</td>\n",
       "      <td>17:32</td>\n",
       "      <td>7.8M</td>\n",
       "    </tr>\n",
       "    <tr>\n",
       "      <th>protein_translation_pep</th>\n",
       "      <td>http://ftp.ensembl.org/pub/release-111/fasta/m...</td>\n",
       "      <td>111</td>\n",
       "      <td>2023-10-05</td>\n",
       "      <td>17:13</td>\n",
       "      <td>11M</td>\n",
       "    </tr>\n",
       "  </tbody>\n",
       "</table>\n",
       "</div>"
      ],
      "text/plain": [
       "                                                                       ftp  \\\n",
       "transcriptome_cdna       http://ftp.ensembl.org/pub/release-111/fasta/m...   \n",
       "genome_dna               http://ftp.ensembl.org/pub/release-111/fasta/m...   \n",
       "annotation_gtf           http://ftp.ensembl.org/pub/release-111/gtf/mus...   \n",
       "coding_seq_cds           http://ftp.ensembl.org/pub/release-111/fasta/m...   \n",
       "non-coding_seq_ncRNA     http://ftp.ensembl.org/pub/release-111/fasta/m...   \n",
       "protein_translation_pep  http://ftp.ensembl.org/pub/release-111/fasta/m...   \n",
       "\n",
       "                        ensembl_release release_date release_time bytes  \n",
       "transcriptome_cdna                  111   2023-10-05        17:12   48M  \n",
       "genome_dna                          111   2023-10-04        12:37  769M  \n",
       "annotation_gtf                      111   2023-10-08        14:49   31M  \n",
       "coding_seq_cds                      111   2023-10-05        17:13   16M  \n",
       "non-coding_seq_ncRNA                111   2023-10-05        17:32  7.8M  \n",
       "protein_translation_pep             111   2023-10-05        17:13   11M  "
      ]
     },
     "execution_count": 10,
     "metadata": {},
     "output_type": "execute_result"
    }
   ],
   "source": [
    "pd.concat(out_list).T"
   ]
  },
  {
   "cell_type": "markdown",
   "id": "713f80fd-9616-42ed-817c-d3cb0756193f",
   "metadata": {},
   "source": [
    "### Predict protein structure"
   ]
  },
  {
   "cell_type": "code",
   "execution_count": 13,
   "id": "60a1472d-9feb-4b6f-8d55-3bc2c2063507",
   "metadata": {
    "scrolled": true
   },
   "outputs": [
    {
     "name": "stderr",
     "output_type": "stream",
     "text": [
      "Mon Mar 11 15:59:16 2024 WARNING gget setup alphafold and gget alphafold are not supported on Windows OS.\n"
     ]
    },
    {
     "ename": "ImportError",
     "evalue": "\n            Importing openmm resulted in the following error:\n            DLL load failed while importing _openmm: The specified module could not be found.\n\n            Please install AlphaFold third-party dependency openmm v7.5.1 (or v7.7.0 for Python >= 3.10) by running the following command from the command line: \n            'conda install -qy conda==4.13.0 && conda install -qy -c conda-forge openmm=7.5.1' (or 'openmm=7.7.0' for Python >= 3.10)\n            (Recommendation: Follow with 'conda update -qy conda' to update conda to the latest version afterwards.)\n            ",
     "output_type": "error",
     "traceback": [
      "\u001b[1;31m---------------------------------------------------------------------------\u001b[0m",
      "\u001b[1;31mImportError\u001b[0m                               Traceback (most recent call last)",
      "\u001b[1;32mD:\\Git\\gget\\gget\\gget_alphafold.py\u001b[0m in \u001b[0;36m?\u001b[1;34m(sequence, out, multimer_for_monomer, relax, multimer_recycles, plot, show_sidechains, verbose)\u001b[0m\n\u001b[0;32m    247\u001b[0m         \u001b[1;32mimport\u001b[0m \u001b[0msimtk\u001b[0m\u001b[1;33m.\u001b[0m\u001b[0mopenmm\u001b[0m \u001b[1;32mas\u001b[0m \u001b[0mopenmm\u001b[0m\u001b[1;33m\u001b[0m\u001b[1;33m\u001b[0m\u001b[0m\n\u001b[0;32m    248\u001b[0m     \u001b[1;32mexcept\u001b[0m \u001b[0mImportError\u001b[0m \u001b[1;32mas\u001b[0m \u001b[0me\u001b[0m\u001b[1;33m:\u001b[0m\u001b[1;33m\u001b[0m\u001b[1;33m\u001b[0m\u001b[0m\n\u001b[1;32m--> 249\u001b[1;33m         raise ImportError(\n\u001b[0m\u001b[0;32m    250\u001b[0m             f\"\"\"\n",
      "\u001b[1;32mS:\\ProgramData\\Anaconda3\\envs\\gget_llm\\lib\\site-packages\\simtk\\openmm\\__init__.py\u001b[0m in \u001b[0;36m?\u001b[1;34m()\u001b[0m\n\u001b[0;32m     17\u001b[0m         'lib': version.openmm_library_path, 'path': _path}\n\u001b[0;32m     18\u001b[0m \u001b[1;33m\u001b[0m\u001b[0m\n\u001b[1;32m---> 19\u001b[1;33m \u001b[1;32mfrom\u001b[0m \u001b[0msimtk\u001b[0m\u001b[1;33m.\u001b[0m\u001b[0mopenmm\u001b[0m\u001b[1;33m.\u001b[0m\u001b[0mopenmm\u001b[0m \u001b[1;32mimport\u001b[0m \u001b[1;33m*\u001b[0m\u001b[1;33m\u001b[0m\u001b[1;33m\u001b[0m\u001b[0m\n\u001b[0m\u001b[0;32m     20\u001b[0m \u001b[1;32mfrom\u001b[0m \u001b[0msimtk\u001b[0m\u001b[1;33m.\u001b[0m\u001b[0mopenmm\u001b[0m\u001b[1;33m.\u001b[0m\u001b[0mvec3\u001b[0m \u001b[1;32mimport\u001b[0m \u001b[0mVec3\u001b[0m\u001b[1;33m\u001b[0m\u001b[1;33m\u001b[0m\u001b[0m\n",
      "\u001b[1;32mS:\\ProgramData\\Anaconda3\\envs\\gget_llm\\lib\\site-packages\\simtk\\openmm\\openmm.py\u001b[0m in \u001b[0;36m?\u001b[1;34m()\u001b[0m\n\u001b[0;32m     11\u001b[0m \u001b[1;31m# the SWIG interface file instead.\u001b[0m\u001b[1;33m\u001b[0m\u001b[1;33m\u001b[0m\u001b[1;33m\u001b[0m\u001b[0m\n\u001b[0;32m     12\u001b[0m \u001b[1;33m\u001b[0m\u001b[0m\n\u001b[1;32m---> 13\u001b[1;33m \u001b[1;32mfrom\u001b[0m \u001b[0msys\u001b[0m \u001b[1;32mimport\u001b[0m \u001b[0mversion_info\u001b[0m \u001b[1;32mas\u001b[0m \u001b[0m_swig_python_version_info\u001b[0m\u001b[1;33m\u001b[0m\u001b[1;33m\u001b[0m\u001b[0m\n\u001b[0m\u001b[0;32m     14\u001b[0m \u001b[1;32mif\u001b[0m \u001b[0m_swig_python_version_info\u001b[0m \u001b[1;33m<\u001b[0m \u001b[1;33m(\u001b[0m\u001b[1;36m2\u001b[0m\u001b[1;33m,\u001b[0m \u001b[1;36m7\u001b[0m\u001b[1;33m,\u001b[0m \u001b[1;36m0\u001b[0m\u001b[1;33m)\u001b[0m\u001b[1;33m:\u001b[0m\u001b[1;33m\u001b[0m\u001b[1;33m\u001b[0m\u001b[0m\n",
      "\u001b[1;31mImportError\u001b[0m: DLL load failed while importing _openmm: The specified module could not be found.",
      "\nDuring handling of the above exception, another exception occurred:\n",
      "\u001b[1;31mImportError\u001b[0m                               Traceback (most recent call last)",
      "Cell \u001b[1;32mIn[13], line 4\u001b[0m\n\u001b[0;32m      1\u001b[0m sequence \u001b[38;5;241m=\u001b[39m \u001b[38;5;124m\"\u001b[39m\u001b[38;5;124mMAAHKGAEHHHKAAEHHEQAAKHHHAAAEHHEKGEHEQAAHHADTAYAHHKHAEEHAAQAAKHDAEHHAPKPH\u001b[39m\u001b[38;5;124m\"\u001b[39m\n\u001b[0;32m      3\u001b[0m \u001b[38;5;66;03m# Run AlphaFold prediction\u001b[39;00m\n\u001b[1;32m----> 4\u001b[0m result \u001b[38;5;241m=\u001b[39m \u001b[43mgget\u001b[49m\u001b[38;5;241;43m.\u001b[39;49m\u001b[43malphafold\u001b[49m\u001b[43m(\u001b[49m\u001b[43msequence\u001b[49m\u001b[43m)\u001b[49m\n",
      "File \u001b[1;32mD:\\Git\\gget\\gget\\gget_alphafold.py:249\u001b[0m, in \u001b[0;36malphafold\u001b[1;34m(sequence, out, multimer_for_monomer, relax, multimer_recycles, plot, show_sidechains, verbose)\u001b[0m\n\u001b[0;32m    247\u001b[0m     \u001b[38;5;28;01mimport\u001b[39;00m \u001b[38;5;21;01msimtk\u001b[39;00m\u001b[38;5;21;01m.\u001b[39;00m\u001b[38;5;21;01mopenmm\u001b[39;00m \u001b[38;5;28;01mas\u001b[39;00m \u001b[38;5;21;01mopenmm\u001b[39;00m\n\u001b[0;32m    248\u001b[0m \u001b[38;5;28;01mexcept\u001b[39;00m \u001b[38;5;167;01mImportError\u001b[39;00m \u001b[38;5;28;01mas\u001b[39;00m e:\n\u001b[1;32m--> 249\u001b[0m     \u001b[38;5;28;01mraise\u001b[39;00m \u001b[38;5;167;01mImportError\u001b[39;00m(\n\u001b[0;32m    250\u001b[0m         \u001b[38;5;124mf\u001b[39m\u001b[38;5;124m\"\"\"\u001b[39m\n\u001b[0;32m    251\u001b[0m \u001b[38;5;124m        Importing openmm resulted in the following error:\u001b[39m\n\u001b[0;32m    252\u001b[0m \u001b[38;5;124m        \u001b[39m\u001b[38;5;132;01m{\u001b[39;00me\u001b[38;5;132;01m}\u001b[39;00m\n\u001b[0;32m    253\u001b[0m \n\u001b[0;32m    254\u001b[0m \u001b[38;5;124m        Please install AlphaFold third-party dependency openmm v7.5.1 (or v7.7.0 for Python >= 3.10) by running the following command from the command line: \u001b[39m\n\u001b[0;32m    255\u001b[0m \u001b[38;5;124m        \u001b[39m\u001b[38;5;124m'\u001b[39m\u001b[38;5;124mconda install -qy conda==4.13.0 && conda install -qy -c conda-forge openmm=7.5.1\u001b[39m\u001b[38;5;124m'\u001b[39m\u001b[38;5;124m (or \u001b[39m\u001b[38;5;124m'\u001b[39m\u001b[38;5;124mopenmm=7.7.0\u001b[39m\u001b[38;5;124m'\u001b[39m\u001b[38;5;124m for Python >= 3.10)\u001b[39m\n\u001b[0;32m    256\u001b[0m \u001b[38;5;124m        (Recommendation: Follow with \u001b[39m\u001b[38;5;124m'\u001b[39m\u001b[38;5;124mconda update -qy conda\u001b[39m\u001b[38;5;124m'\u001b[39m\u001b[38;5;124m to update conda to the latest version afterwards.)\u001b[39m\n\u001b[0;32m    257\u001b[0m \u001b[38;5;124m        \u001b[39m\u001b[38;5;124m\"\"\"\u001b[39m\n\u001b[0;32m    258\u001b[0m     )\n\u001b[0;32m    260\u001b[0m \u001b[38;5;66;03m# Check if AlphaFold is installed\u001b[39;00m\n\u001b[0;32m    261\u001b[0m \u001b[38;5;28;01mtry\u001b[39;00m:\n",
      "\u001b[1;31mImportError\u001b[0m: \n            Importing openmm resulted in the following error:\n            DLL load failed while importing _openmm: The specified module could not be found.\n\n            Please install AlphaFold third-party dependency openmm v7.5.1 (or v7.7.0 for Python >= 3.10) by running the following command from the command line: \n            'conda install -qy conda==4.13.0 && conda install -qy -c conda-forge openmm=7.5.1' (or 'openmm=7.7.0' for Python >= 3.10)\n            (Recommendation: Follow with 'conda update -qy conda' to update conda to the latest version afterwards.)\n            "
     ]
    }
   ],
   "source": [
    "sequence = \"MAAHKGAEHHHKAAEHHEQAAKHHHAAAEHHEKGEHEQAAHHADTAYAHHKHAEEHAAQAAKHDAEHHAPKPH\"\n",
    "\n",
    "# Run AlphaFold prediction\n",
    "result = gget.alphafold(sequence)"
   ]
  },
  {
   "cell_type": "code",
   "execution_count": 12,
   "id": "87194d41-2ad8-4f5e-9f82-4ec09b5497c5",
   "metadata": {},
   "outputs": [
    {
     "ename": "TypeError",
     "evalue": "diamond() got an unexpected keyword argument 'sequences'",
     "output_type": "error",
     "traceback": [
      "\u001b[1;31m---------------------------------------------------------------------------\u001b[0m",
      "\u001b[1;31mTypeError\u001b[0m                                 Traceback (most recent call last)",
      "Cell \u001b[1;32mIn[12], line 2\u001b[0m\n\u001b[0;32m      1\u001b[0m \u001b[38;5;66;03m# Example usage:\u001b[39;00m\n\u001b[1;32m----> 2\u001b[0m result_df \u001b[38;5;241m=\u001b[39m \u001b[43mgget\u001b[49m\u001b[38;5;241;43m.\u001b[39;49m\u001b[43mdiamond\u001b[49m\u001b[43m(\u001b[49m\n\u001b[0;32m      3\u001b[0m \u001b[43m    \u001b[49m\u001b[43msequences\u001b[49m\u001b[38;5;241;43m=\u001b[39;49m\u001b[43m[\u001b[49m\u001b[38;5;124;43m\"\u001b[39;49m\u001b[38;5;124;43mGGETISAWESQME\u001b[39;49m\u001b[38;5;124;43m\"\u001b[39;49m\u001b[43m,\u001b[49m\u001b[43m \u001b[49m\u001b[38;5;124;43m\"\u001b[39;49m\u001b[38;5;124;43mELVISISALIVE\u001b[39;49m\u001b[38;5;124;43m\"\u001b[39;49m\u001b[43m,\u001b[49m\u001b[43m \u001b[49m\u001b[38;5;124;43m\"\u001b[39;49m\u001b[38;5;124;43mLQVEFRANKLIN\u001b[39;49m\u001b[38;5;124;43m\"\u001b[39;49m\u001b[43m,\u001b[49m\u001b[43m \u001b[49m\u001b[38;5;124;43m\"\u001b[39;49m\u001b[38;5;124;43mPACHTERLABRQCKS\u001b[39;49m\u001b[38;5;124;43m\"\u001b[39;49m\u001b[43m]\u001b[49m\u001b[43m,\u001b[49m\n\u001b[0;32m      4\u001b[0m \u001b[43m    \u001b[49m\u001b[43mreference\u001b[49m\u001b[38;5;241;43m=\u001b[39;49m\u001b[43m[\u001b[49m\u001b[38;5;124;43m\"\u001b[39;49m\u001b[38;5;124;43mGGETISAWESQMEELVISISALIVELQVEFRANKLIN\u001b[39;49m\u001b[38;5;124;43m\"\u001b[39;49m\u001b[43m,\u001b[49m\u001b[43m \u001b[49m\u001b[38;5;124;43m\"\u001b[39;49m\u001b[38;5;124;43mPACHTERLABRQCKS\u001b[39;49m\u001b[38;5;124;43m\"\u001b[39;49m\u001b[43m]\u001b[49m\u001b[43m,\u001b[49m\n\u001b[0;32m      5\u001b[0m \u001b[43m    \u001b[49m\u001b[43mcsv\u001b[49m\u001b[38;5;241;43m=\u001b[39;49m\u001b[38;5;28;43;01mTrue\u001b[39;49;00m\n\u001b[0;32m      6\u001b[0m \u001b[43m)\u001b[49m\n",
      "\u001b[1;31mTypeError\u001b[0m: diamond() got an unexpected keyword argument 'sequences'"
     ]
    }
   ],
   "source": [
    "# Example usage:\n",
    "result_df = gget.diamond(\n",
    "    sequences=[\"GGETISAWESQME\", \"ELVISISALIVE\", \"LQVEFRANKLIN\", \"PACHTERLABRQCKS\"],\n",
    "    reference=[\"GGETISAWESQMEELVISISALIVELQVEFRANKLIN\", \"PACHTERLABRQCKS\"],\n",
    "    csv=True\n",
    ")\n"
   ]
  },
  {
   "cell_type": "code",
   "execution_count": 6,
   "id": "7559ebb4",
   "metadata": {},
   "outputs": [
    {
     "name": "stderr",
     "output_type": "stream",
     "text": [
      "Wed Feb 28 13:08:20 2024 INFO Fetching results from database: macaca_mulatta_core_111_10\n",
      "Wed Feb 28 13:08:24 2024 INFO Total matches found: 0.\n",
      "Wed Feb 28 13:08:24 2024 INFO Query time: 8.04 seconds.\n"
     ]
    },
    {
     "data": {
      "text/html": [
       "<div>\n",
       "<style scoped>\n",
       "    .dataframe tbody tr th:only-of-type {\n",
       "        vertical-align: middle;\n",
       "    }\n",
       "\n",
       "    .dataframe tbody tr th {\n",
       "        vertical-align: top;\n",
       "    }\n",
       "\n",
       "    .dataframe thead th {\n",
       "        text-align: right;\n",
       "    }\n",
       "</style>\n",
       "<table border=\"1\" class=\"dataframe\">\n",
       "  <thead>\n",
       "    <tr style=\"text-align: right;\">\n",
       "      <th></th>\n",
       "      <th>ensembl_id</th>\n",
       "      <th>gene_name</th>\n",
       "      <th>ensembl_description</th>\n",
       "      <th>ext_ref_description</th>\n",
       "      <th>biotype</th>\n",
       "      <th>synonym</th>\n",
       "      <th>url</th>\n",
       "    </tr>\n",
       "  </thead>\n",
       "  <tbody>\n",
       "  </tbody>\n",
       "</table>\n",
       "</div>"
      ],
      "text/plain": [
       "Empty DataFrame\n",
       "Columns: [ensembl_id, gene_name, ensembl_description, ext_ref_description, biotype, synonym, url]\n",
       "Index: []"
      ]
     },
     "execution_count": 6,
     "metadata": {},
     "output_type": "execute_result"
    }
   ],
   "source": [
    "gget.search(\"MT-\", \"macaca_m\")"
   ]
  },
  {
   "cell_type": "code",
   "execution_count": 7,
   "id": "d7daf691",
   "metadata": {
    "scrolled": true
   },
   "outputs": [
    {
     "name": "stderr",
     "output_type": "stream",
     "text": [
      "Wed Feb 28 13:08:45 2024 INFO Fetching results from database: macaca_mulatta_core_111_10\n",
      "Wed Feb 28 13:08:46 2024 INFO Total matches found: 6.\n",
      "Wed Feb 28 13:08:46 2024 INFO Query time: 2.4 seconds.\n"
     ]
    },
    {
     "data": {
      "text/html": [
       "<table border=\"1\" class=\"dataframe\">\n",
       "  <thead>\n",
       "    <tr style=\"text-align: right;\">\n",
       "      <th></th>\n",
       "      <th>ensembl_id</th>\n",
       "      <th>gene_name</th>\n",
       "      <th>ensembl_description</th>\n",
       "      <th>ext_ref_description</th>\n",
       "      <th>biotype</th>\n",
       "      <th>synonym</th>\n",
       "      <th>url</th>\n",
       "    </tr>\n",
       "  </thead>\n",
       "  <tbody>\n",
       "    <tr>\n",
       "      <th>0</th>\n",
       "      <td>ENSMMUG00000004685</td>\n",
       "      <td>NAIF1</td>\n",
       "      <td>nuclear apoptosis inducing<br>factor 1 [Source:VGNC<br>Symbol;Acc:VGNC:75021]</td>\n",
       "      <td>nuclear apoptosis inducing<br>factor 1</td>\n",
       "      <td>protein_coding</td>\n",
       "      <td>[None]</td>\n",
       "      <td>https://useast.ensembl.org/mac<br>aca_mulatta/Gene/Summary?g=ENS<br>MMUG00000004685</td>\n",
       "    </tr>\n",
       "    <tr>\n",
       "      <th>1</th>\n",
       "      <td>ENSMMUG00000004954</td>\n",
       "      <td>AIFM1</td>\n",
       "      <td>apoptosis inducing factor<br>mitochondria associated 1<br>[Source:VGNC<br>Symbol;Acc:VGNC:69820]</td>\n",
       "      <td>apoptosis inducing factor<br>mitochondria associated 1</td>\n",
       "      <td>protein_coding</td>\n",
       "      <td>[None]</td>\n",
       "      <td>https://useast.ensembl.org/mac<br>aca_mulatta/Gene/Summary?g=ENS<br>MMUG00000004954</td>\n",
       "    </tr>\n",
       "    <tr>\n",
       "      <th>2</th>\n",
       "      <td>ENSMMUG00000006392</td>\n",
       "      <td>AIFM2</td>\n",
       "      <td>apoptosis inducing factor<br>mitochondria associated 2<br>[Source:VGNC<br>Symbol;Acc:VGNC:69666]</td>\n",
       "      <td>apoptosis inducing factor<br>mitochondria associated 2</td>\n",
       "      <td>protein_coding</td>\n",
       "      <td>[None]</td>\n",
       "      <td>https://useast.ensembl.org/mac<br>aca_mulatta/Gene/Summary?g=ENS<br>MMUG00000006392</td>\n",
       "    </tr>\n",
       "    <tr>\n",
       "      <th>3</th>\n",
       "      <td>ENSMMUG00000020478</td>\n",
       "      <td>AIFM3</td>\n",
       "      <td>apoptosis inducing factor<br>mitochondria associated 3<br>[Source:VGNC<br>Symbol;Acc:VGNC:69709]</td>\n",
       "      <td>apoptosis inducing factor<br>mitochondria associated 3</td>\n",
       "      <td>protein_coding</td>\n",
       "      <td>[None]</td>\n",
       "      <td>https://useast.ensembl.org/mac<br>aca_mulatta/Gene/Summary?g=ENS<br>MMUG00000020478</td>\n",
       "    </tr>\n",
       "    <tr>\n",
       "      <th>4</th>\n",
       "      <td>ENSMMUG00000044552</td>\n",
       "      <td>BLCAP</td>\n",
       "      <td>BLCAP apoptosis inducing<br>factor [Source:VGNC<br>Symbol;Acc:VGNC:84546]</td>\n",
       "      <td>BLCAP apoptosis inducing<br>factor</td>\n",
       "      <td>protein_coding</td>\n",
       "      <td>[None]</td>\n",
       "      <td>https://useast.ensembl.org/mac<br>aca_mulatta/Gene/Summary?g=ENS<br>MMUG00000044552</td>\n",
       "    </tr>\n",
       "    <tr>\n",
       "      <th>5</th>\n",
       "      <td>ENSMMUG00000052518</td>\n",
       "      <td>SIVA1</td>\n",
       "      <td>SIVA1 apoptosis inducing<br>factor [Source:NCBI gene<br>(formerly<br>Entrezgene);Acc:706688]</td>\n",
       "      <td>SIVA1 apoptosis inducing<br>factor</td>\n",
       "      <td>protein_coding</td>\n",
       "      <td>[None]</td>\n",
       "      <td>https://useast.ensembl.org/mac<br>aca_mulatta/Gene/Summary?g=ENS<br>MMUG00000052518</td>\n",
       "    </tr>\n",
       "  </tbody>\n",
       "</table>"
      ],
      "text/plain": [
       "<IPython.core.display.HTML object>"
      ]
     },
     "metadata": {},
     "output_type": "display_data"
    }
   ],
   "source": [
    "qc_df = gget.search([\"apoptosis\", \"inducing\"], \"macaca_m\", andor=\"and\", wrap_text=True)"
   ]
  },
  {
   "cell_type": "code",
   "execution_count": 8,
   "id": "9eff47e8",
   "metadata": {},
   "outputs": [
    {
     "ename": "NameError",
     "evalue": "name 'funcs' is not defined",
     "output_type": "error",
     "traceback": [
      "\u001b[1;31m---------------------------------------------------------------------------\u001b[0m",
      "\u001b[1;31mNameError\u001b[0m                                 Traceback (most recent call last)",
      "Cell \u001b[1;32mIn[8], line 1\u001b[0m\n\u001b[1;32m----> 1\u001b[0m qc_genes \u001b[38;5;241m=\u001b[39m \u001b[43mfuncs\u001b[49m\u001b[38;5;241m.\u001b[39mfind_ids(adata, qc_df[\u001b[38;5;124m\"\u001b[39m\u001b[38;5;124mensembl_id\u001b[39m\u001b[38;5;124m\"\u001b[39m]\u001b[38;5;241m.\u001b[39mvalues)\n",
      "\u001b[1;31mNameError\u001b[0m: name 'funcs' is not defined"
     ]
    }
   ],
   "source": [
    "qc_genes = funcs.find_ids(adata, qc_df[\"ensembl_id\"].values)"
   ]
  }
 ],
 "metadata": {
  "kernelspec": {
   "display_name": "Python 3 (ipykernel)",
   "language": "python",
   "name": "python3"
  },
  "language_info": {
   "codemirror_mode": {
    "name": "ipython",
    "version": 3
   },
   "file_extension": ".py",
   "mimetype": "text/x-python",
   "name": "python",
   "nbconvert_exporter": "python",
   "pygments_lexer": "ipython3",
   "version": "3.8.18"
  }
 },
 "nbformat": 4,
 "nbformat_minor": 5
}
